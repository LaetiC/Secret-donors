{
 "cells": [
  {
   "cell_type": "markdown",
   "metadata": {},
   "source": [
    "## 1 - Ouverture des bases de données"
   ]
  },
  {
   "cell_type": "code",
   "execution_count": 2,
   "metadata": {},
   "outputs": [
    {
     "name": "stdout",
     "output_type": "stream",
     "text": [
      "/Users/laetitiacommanay/Desktop/Python\n"
     ]
    }
   ],
   "source": [
    "import pandas as pd\n",
    "import os\n",
    "import numpy as np\n",
    "print(os.getcwd())"
   ]
  },
  {
   "cell_type": "code",
   "execution_count": null,
   "metadata": {},
   "outputs": [
    {
     "name": "stderr",
     "output_type": "stream",
     "text": [
      "/var/folders/jz/kcxw0rt55zb3hz_0xtjzqdnw0000gn/T/ipykernel_69604/3663044602.py:2: DtypeWarning: Columns (4,5,10,11,15) have mixed types. Specify dtype option on import or set low_memory=False.\n",
      "  df = pd.read_csv(\"/Users/laetitiacommanay/Desktop/Python/dime_contributors_1979_2022.csv\", encoding = 'ISO-8859-1')\n"
     ]
    }
   ],
   "source": [
    "#Ce fichier recense l'évolution des dons sur la période recherchée mais ne donne pas le CFscore individuel par donateurs.\n",
    "#Pour cela, il faut utiliser les bases de données pour chaque année.\n",
    "df = pd.read_csv(\"/Users/laetitiacommanay/Desktop/Python/dime_contributors_1979_2022.csv\", encoding = 'ISO-8859-1')"
   ]
  },
  {
   "cell_type": "markdown",
   "metadata": {},
   "source": [
    "<h2>Pour avoir l'évolution dans l'idéologie des agriculteurs depuis 1980, nous avons pris chaque années présidentielle et regardé les scores des contributeurs individuels recencés dans les bases de données DIME.</h2>"
   ]
  },
  {
   "cell_type": "code",
   "execution_count": null,
   "metadata": {},
   "outputs": [],
   "source": [
    "# Nous créons une df qui nous servira à l'export avec un moyenne des CFscore pour les fermiers chaque année présidentielle,\n",
    "#et une moyenne de la population générale pour avoir un élement de comparaison.\n",
    "df_results = pd.DataFrame(columns=['year', 'avg_farmer_cfscore', 'avg_all_cfscore', 'farmer_count', 'total_count'])\n"
   ]
  },
  {
   "cell_type": "markdown",
   "metadata": {},
   "source": [
    "## 1980\n"
   ]
  },
  {
   "cell_type": "code",
   "execution_count": null,
   "metadata": {},
   "outputs": [
    {
     "name": "stdout",
     "output_type": "stream",
     "text": [
      "   year  avg_farmer_cfscore  avg_all_cfscore farmer_count total_count\n",
      "0  1980            0.644523         0.393878         3959      458212\n"
     ]
    },
    {
     "name": "stderr",
     "output_type": "stream",
     "text": [
      "/var/folders/jz/kcxw0rt55zb3hz_0xtjzqdnw0000gn/T/ipykernel_62224/2666627279.py:11: DtypeWarning: Columns (19) have mixed types. Specify dtype option on import or set low_memory=False.\n",
      "  df = pd.read_csv(f'/Users/laetitiacommanay/Desktop/Python/DBs since 1980/contribDB_{year}.csv',\n",
      "/var/folders/jz/kcxw0rt55zb3hz_0xtjzqdnw0000gn/T/ipykernel_62224/2666627279.py:36: FutureWarning: The behavior of DataFrame concatenation with empty or all-NA entries is deprecated. In a future version, this will no longer exclude empty or all-NA columns when determining the result dtypes. To retain the old behavior, exclude the relevant entries before the concat operation.\n",
      "  df_results = pd.concat([df_results, temp_df], ignore_index=True)\n"
     ]
    }
   ],
   "source": [
    "year = '1980'\n",
    "\n",
    "# Les termes liées à l'agriculture que nous avons utilisé dans notre travail pour cibler les agricultuers.\n",
    "farmer_occupation_terms = {\n",
    "    'farmer', 'rancher', 'harvester', 'landowner', 'shepherd', 'vintner',\n",
    "    'grower', 'cultivator', 'horticulturist', 'dairy farmer', 'cattleman', 'agriculturist'\n",
    "}\n",
    "\n",
    "df = pd.read_csv(f'/Users/laetitiacommanay/Desktop/Python/DBs since 1980/contribDB_{year}.csv',\n",
    "                 usecols=['contributor.occupation', 'contributor.cfscore'],\n",
    "                 encoding='ISO-8859-1')\n",
    "\n",
    "#Une df est crée uniquement avec les fermiers.\n",
    "farmer_df = df[df['contributor.occupation'].isin(farmer_occupation_terms)]\n",
    "\n",
    "#La moyenne des CFscores pour les agriculteurs et pour toute de la population.\n",
    "avg_farmer_cfscore = farmer_df['contributor.cfscore'].mean()\n",
    "avg_all_cfscore = df['contributor.cfscore'].mean()\n",
    "\n",
    "#Avoir un nombre de contributions de fermiers et de la population générale pour voir l'évolution dans le temps.\n",
    "farmer_count = farmer_df.shape[0]\n",
    "total_count = df.shape[0]\n",
    "\n",
    "#DF temporaire à ajouter dans la df_results\n",
    "temp_df = pd.DataFrame({\n",
    "    'year': [year],\n",
    "    'avg_farmer_cfscore': [avg_farmer_cfscore],\n",
    "    'avg_all_cfscore': [avg_all_cfscore],\n",
    "    'farmer_count': [farmer_count],\n",
    "    'total_count': [total_count]\n",
    "})\n",
    "\n",
    "df_results = pd.concat([df_results, temp_df], ignore_index=True)\n",
    "\n",
    "print(df_results)"
   ]
  },
  {
   "cell_type": "markdown",
   "metadata": {},
   "source": [
    "## 1984"
   ]
  },
  {
   "cell_type": "code",
   "execution_count": null,
   "metadata": {},
   "outputs": [
    {
     "name": "stdout",
     "output_type": "stream",
     "text": [
      "   year  avg_farmer_cfscore  avg_all_cfscore farmer_count total_count\n",
      "0  1980            0.644523         0.393878         3959      458212\n",
      "1  1984            0.803871         0.306005         1046      435332\n"
     ]
    },
    {
     "name": "stderr",
     "output_type": "stream",
     "text": [
      "/var/folders/jz/kcxw0rt55zb3hz_0xtjzqdnw0000gn/T/ipykernel_62224/1843648434.py:11: DtypeWarning: Columns (19) have mixed types. Specify dtype option on import or set low_memory=False.\n",
      "  df = pd.read_csv(f'/Users/laetitiacommanay/Desktop/Python/DBs since 1980/contribDB_{year}.csv',\n"
     ]
    }
   ],
   "source": [
    "#Même processus que 1980, répété pour chaque année.\n",
    "year = '1984'\n",
    "\n",
    "farmer_occupation_terms = {\n",
    "    'farmer', 'rancher', 'harvester', 'landowner', 'shepherd', 'vintner',\n",
    "    'grower', 'cultivator', 'horticulturist', 'dairy farmer', 'cattleman', 'agriculturist'\n",
    "}\n",
    "\n",
    "df = pd.read_csv(f'/Users/laetitiacommanay/Desktop/Python/DBs since 1980/contribDB_{year}.csv',\n",
    "                 usecols=['contributor.occupation', 'contributor.cfscore'],\n",
    "                 encoding='ISO-8859-1')\n",
    "\n",
    "farmer_df = df[df['contributor.occupation'].isin(farmer_occupation_terms)]\n",
    "\n",
    "avg_farmer_cfscore = farmer_df['contributor.cfscore'].mean()\n",
    "avg_all_cfscore = df['contributor.cfscore'].mean()\n",
    "\n",
    "farmer_count = farmer_df.shape[0]\n",
    "total_count = df.shape[0]\n",
    "\n",
    "temp_df = pd.DataFrame({\n",
    "    'year': [year],\n",
    "    'avg_farmer_cfscore': [avg_farmer_cfscore],\n",
    "    'avg_all_cfscore': [avg_all_cfscore],\n",
    "    'farmer_count': [farmer_count],\n",
    "    'total_count': [total_count]\n",
    "})\n",
    "\n",
    "df_results = pd.concat([df_results, temp_df], ignore_index=True)\n",
    "\n",
    "print(df_results)"
   ]
  },
  {
   "cell_type": "markdown",
   "metadata": {},
   "source": [
    "## 1988"
   ]
  },
  {
   "cell_type": "code",
   "execution_count": null,
   "metadata": {},
   "outputs": [
    {
     "name": "stdout",
     "output_type": "stream",
     "text": [
      "   year  avg_farmer_cfscore  avg_all_cfscore farmer_count total_count\n",
      "0  1980            0.644523         0.393878         3959      458212\n",
      "1  1984            0.803871         0.306005         1046      435332\n",
      "2  1988            0.613966         0.258058         2221      654957\n"
     ]
    },
    {
     "name": "stderr",
     "output_type": "stream",
     "text": [
      "/var/folders/jz/kcxw0rt55zb3hz_0xtjzqdnw0000gn/T/ipykernel_62224/2324778818.py:11: DtypeWarning: Columns (19) have mixed types. Specify dtype option on import or set low_memory=False.\n",
      "  df = pd.read_csv(f'/Users/laetitiacommanay/Desktop/Python/DBs since 1980/contribDB_{year}.csv',\n"
     ]
    }
   ],
   "source": [
    "year = '1988'\n",
    "\n",
    "farmer_occupation_terms = {\n",
    "    'farmer', 'rancher', 'harvester', 'landowner', 'shepherd', 'vintner',\n",
    "    'grower', 'cultivator', 'horticulturist', 'dairy farmer', 'cattleman', 'agriculturist'\n",
    "}\n",
    "\n",
    "df = pd.read_csv(f'/Users/laetitiacommanay/Desktop/Python/DBs since 1980/contribDB_{year}.csv',\n",
    "                 usecols=['contributor.occupation', 'contributor.cfscore'],\n",
    "                 encoding='ISO-8859-1')\n",
    "\n",
    "farmer_df = df[df['contributor.occupation'].isin(farmer_occupation_terms)]\n",
    "\n",
    "avg_farmer_cfscore = farmer_df['contributor.cfscore'].mean()\n",
    "avg_all_cfscore = df['contributor.cfscore'].mean()\n",
    "\n",
    "farmer_count = farmer_df.shape[0]\n",
    "total_count = df.shape[0]\n",
    "\n",
    "temp_df = pd.DataFrame({\n",
    "    'year': [year],\n",
    "    'avg_farmer_cfscore': [avg_farmer_cfscore],\n",
    "    'avg_all_cfscore': [avg_all_cfscore],\n",
    "    'farmer_count': [farmer_count],\n",
    "    'total_count': [total_count]\n",
    "})\n",
    "\n",
    "df_results = pd.concat([df_results, temp_df], ignore_index=True)\n",
    "\n",
    "print(df_results)"
   ]
  },
  {
   "cell_type": "markdown",
   "metadata": {},
   "source": [
    "## 1992"
   ]
  },
  {
   "cell_type": "code",
   "execution_count": null,
   "metadata": {},
   "outputs": [
    {
     "name": "stdout",
     "output_type": "stream",
     "text": [
      "   year  avg_farmer_cfscore  avg_all_cfscore farmer_count total_count\n",
      "0  1980            0.644523         0.393878         3959      458212\n",
      "1  1984            0.803871         0.306005         1046      435332\n",
      "2  1988            0.613966         0.258058         2221      654957\n",
      "3  1992            0.728723         0.121089         5350     1510170\n"
     ]
    },
    {
     "name": "stderr",
     "output_type": "stream",
     "text": [
      "/var/folders/jz/kcxw0rt55zb3hz_0xtjzqdnw0000gn/T/ipykernel_62224/3001827591.py:11: DtypeWarning: Columns (19) have mixed types. Specify dtype option on import or set low_memory=False.\n",
      "  df = pd.read_csv(f'/Users/laetitiacommanay/Desktop/Python/DBs since 1980/contribDB_{year}.csv',\n"
     ]
    }
   ],
   "source": [
    "year = '1992'\n",
    "\n",
    "farmer_occupation_terms = {\n",
    "    'farmer', 'rancher', 'harvester', 'landowner', 'shepherd', 'vintner',\n",
    "    'grower', 'cultivator', 'horticulturist', 'dairy farmer', 'cattleman', 'agriculturist'\n",
    "}\n",
    "\n",
    "df = pd.read_csv(f'/Users/laetitiacommanay/Desktop/Python/DBs since 1980/contribDB_{year}.csv',\n",
    "                 usecols=['contributor.occupation', 'contributor.cfscore'],\n",
    "                 encoding='ISO-8859-1')\n",
    "\n",
    "farmer_df = df[df['contributor.occupation'].isin(farmer_occupation_terms)]\n",
    "\n",
    "avg_farmer_cfscore = farmer_df['contributor.cfscore'].mean()\n",
    "avg_all_cfscore = df['contributor.cfscore'].mean()\n",
    "\n",
    "farmer_count = farmer_df.shape[0]\n",
    "total_count = df.shape[0]\n",
    "\n",
    "temp_df = pd.DataFrame({\n",
    "    'year': [year],\n",
    "    'avg_farmer_cfscore': [avg_farmer_cfscore],\n",
    "    'avg_all_cfscore': [avg_all_cfscore],\n",
    "    'farmer_count': [farmer_count],\n",
    "    'total_count': [total_count]\n",
    "})\n",
    "\n",
    "df_results = pd.concat([df_results, temp_df], ignore_index=True)\n",
    "\n",
    "print(df_results)"
   ]
  },
  {
   "cell_type": "markdown",
   "metadata": {},
   "source": [
    "## 1996"
   ]
  },
  {
   "cell_type": "code",
   "execution_count": null,
   "metadata": {},
   "outputs": [
    {
     "name": "stdout",
     "output_type": "stream",
     "text": [
      "   year  avg_farmer_cfscore  avg_all_cfscore farmer_count total_count\n",
      "0  1980            0.644523         0.393878         3959      458212\n",
      "1  1984            0.803871         0.306005         1046      435332\n",
      "2  1988            0.613966         0.258058         2221      654957\n",
      "3  1992            0.728723         0.121089         5350     1510170\n",
      "4  1996            0.711559         0.251028         8749     3172309\n"
     ]
    },
    {
     "name": "stderr",
     "output_type": "stream",
     "text": [
      "/var/folders/jz/kcxw0rt55zb3hz_0xtjzqdnw0000gn/T/ipykernel_62224/2107300323.py:11: DtypeWarning: Columns (19) have mixed types. Specify dtype option on import or set low_memory=False.\n",
      "  df = pd.read_csv(f'/Users/laetitiacommanay/Desktop/Python/DBs since 1980/contribDB_{year}.csv',\n"
     ]
    }
   ],
   "source": [
    "year = '1996'\n",
    "\n",
    "farmer_occupation_terms = {\n",
    "    'farmer', 'rancher', 'harvester', 'landowner', 'shepherd', 'vintner',\n",
    "    'grower', 'cultivator', 'horticulturist', 'dairy farmer', 'cattleman', 'agriculturist'\n",
    "}\n",
    "\n",
    "df = pd.read_csv(f'/Users/laetitiacommanay/Desktop/Python/DBs since 1980/contribDB_{year}.csv',\n",
    "                 usecols=['contributor.occupation', 'contributor.cfscore'],\n",
    "                 encoding='ISO-8859-1')\n",
    "\n",
    "farmer_df = df[df['contributor.occupation'].isin(farmer_occupation_terms)]\n",
    "\n",
    "avg_farmer_cfscore = farmer_df['contributor.cfscore'].mean()\n",
    "avg_all_cfscore = df['contributor.cfscore'].mean()\n",
    "\n",
    "farmer_count = farmer_df.shape[0]\n",
    "total_count = df.shape[0]\n",
    "\n",
    "temp_df = pd.DataFrame({\n",
    "    'year': [year],\n",
    "    'avg_farmer_cfscore': [avg_farmer_cfscore],\n",
    "    'avg_all_cfscore': [avg_all_cfscore],\n",
    "    'farmer_count': [farmer_count],\n",
    "    'total_count': [total_count]\n",
    "})\n",
    "\n",
    "df_results = pd.concat([df_results, temp_df], ignore_index=True)\n",
    "\n",
    "print(df_results)"
   ]
  },
  {
   "cell_type": "markdown",
   "metadata": {},
   "source": [
    "## 2000"
   ]
  },
  {
   "cell_type": "code",
   "execution_count": null,
   "metadata": {},
   "outputs": [
    {
     "name": "stderr",
     "output_type": "stream",
     "text": [
      "/var/folders/jz/kcxw0rt55zb3hz_0xtjzqdnw0000gn/T/ipykernel_62224/3920906129.py:11: DtypeWarning: Columns (19) have mixed types. Specify dtype option on import or set low_memory=False.\n",
      "  df = pd.read_csv(f'/Users/laetitiacommanay/Desktop/Python/DBs since 1980/contribDB_{year}.csv',\n"
     ]
    },
    {
     "name": "stdout",
     "output_type": "stream",
     "text": [
      "   year  avg_farmer_cfscore  avg_all_cfscore farmer_count total_count\n",
      "0  1980            0.644523         0.393878         3959      458212\n",
      "1  1984            0.803871         0.306005         1046      435332\n",
      "2  1988            0.613966         0.258058         2221      654957\n",
      "3  1992            0.728723         0.121089         5350     1510170\n",
      "4  1996            0.711559         0.251028         8749     3172309\n",
      "5  2000            0.722031         0.204471        19667     7502022\n"
     ]
    }
   ],
   "source": [
    "year = '2000'\n",
    "\n",
    "farmer_occupation_terms = {\n",
    "    'farmer', 'rancher', 'harvester', 'landowner', 'shepherd', 'vintner',\n",
    "    'grower', 'cultivator', 'horticulturist', 'dairy farmer', 'cattleman', 'agriculturist'\n",
    "}\n",
    "\n",
    "df = pd.read_csv(f'/Users/laetitiacommanay/Desktop/Python/DBs since 1980/contribDB_{year}.csv',\n",
    "                 usecols=['contributor.occupation', 'contributor.cfscore'],\n",
    "                 encoding='ISO-8859-1')\n",
    "\n",
    "farmer_df = df[df['contributor.occupation'].isin(farmer_occupation_terms)]\n",
    "\n",
    "avg_farmer_cfscore = farmer_df['contributor.cfscore'].mean()\n",
    "avg_all_cfscore = df['contributor.cfscore'].mean()\n",
    "\n",
    "farmer_count = farmer_df.shape[0]\n",
    "total_count = df.shape[0]\n",
    "\n",
    "temp_df = pd.DataFrame({\n",
    "    'year': [year],\n",
    "    'avg_farmer_cfscore': [avg_farmer_cfscore],\n",
    "    'avg_all_cfscore': [avg_all_cfscore],\n",
    "    'farmer_count': [farmer_count],\n",
    "    'total_count': [total_count]\n",
    "})\n",
    "\n",
    "df_results = pd.concat([df_results, temp_df], ignore_index=True)\n",
    "\n",
    "print(df_results)"
   ]
  },
  {
   "cell_type": "markdown",
   "metadata": {},
   "source": [
    "## 2004"
   ]
  },
  {
   "cell_type": "code",
   "execution_count": null,
   "metadata": {},
   "outputs": [
    {
     "name": "stderr",
     "output_type": "stream",
     "text": [
      "/var/folders/jz/kcxw0rt55zb3hz_0xtjzqdnw0000gn/T/ipykernel_62224/2998120139.py:11: DtypeWarning: Columns (19) have mixed types. Specify dtype option on import or set low_memory=False.\n",
      "  df = pd.read_csv(f'/Users/laetitiacommanay/Desktop/Python/DBs since 1980/contribDB_{year}.csv',\n"
     ]
    },
    {
     "name": "stdout",
     "output_type": "stream",
     "text": [
      "   year  avg_farmer_cfscore  avg_all_cfscore farmer_count total_count\n",
      "0  1980            0.644523         0.393878         3959      458212\n",
      "1  1984            0.803871         0.306005         1046      435332\n",
      "2  1988            0.613966         0.258058         2221      654957\n",
      "3  1992            0.728723         0.121089         5350     1510170\n",
      "4  1996            0.711559         0.251028         8749     3172309\n",
      "5  2000            0.722031         0.204471        19667     7502022\n",
      "6  2004            0.716812         0.113482        52072    17422147\n"
     ]
    }
   ],
   "source": [
    "year = '2004'\n",
    "\n",
    "farmer_occupation_terms = {\n",
    "    'farmer', 'rancher', 'harvester', 'landowner', 'shepherd', 'vintner',\n",
    "    'grower', 'cultivator', 'horticulturist', 'dairy farmer', 'cattleman', 'agriculturist'\n",
    "}\n",
    "\n",
    "df = pd.read_csv(f'/Users/laetitiacommanay/Desktop/Python/DBs since 1980/contribDB_{year}.csv',\n",
    "                 usecols=['contributor.occupation', 'contributor.cfscore'],\n",
    "                 encoding='ISO-8859-1')\n",
    "\n",
    "farmer_df = df[df['contributor.occupation'].isin(farmer_occupation_terms)]\n",
    "\n",
    "avg_farmer_cfscore = farmer_df['contributor.cfscore'].mean()\n",
    "avg_all_cfscore = df['contributor.cfscore'].mean()\n",
    "\n",
    "farmer_count = farmer_df.shape[0]\n",
    "total_count = df.shape[0]\n",
    "\n",
    "temp_df = pd.DataFrame({\n",
    "    'year': [year],\n",
    "    'avg_farmer_cfscore': [avg_farmer_cfscore],\n",
    "    'avg_all_cfscore': [avg_all_cfscore],\n",
    "    'farmer_count': [farmer_count],\n",
    "    'total_count': [total_count]\n",
    "})\n",
    "\n",
    "df_results = pd.concat([df_results, temp_df], ignore_index=True)\n",
    "\n",
    "print(df_results)"
   ]
  },
  {
   "cell_type": "markdown",
   "metadata": {},
   "source": [
    "## 2008"
   ]
  },
  {
   "cell_type": "code",
   "execution_count": null,
   "metadata": {},
   "outputs": [
    {
     "name": "stderr",
     "output_type": "stream",
     "text": [
      "/var/folders/jz/kcxw0rt55zb3hz_0xtjzqdnw0000gn/T/ipykernel_62224/370331686.py:11: DtypeWarning: Columns (19) have mixed types. Specify dtype option on import or set low_memory=False.\n",
      "  df = pd.read_csv(f'/Users/laetitiacommanay/Desktop/Python/DBs since 1980/contribDB_{year}.csv',\n"
     ]
    },
    {
     "name": "stdout",
     "output_type": "stream",
     "text": [
      "   year  avg_farmer_cfscore  avg_all_cfscore farmer_count total_count\n",
      "0  1980            0.644523         0.393878         3959      458212\n",
      "1  1984            0.803871         0.306005         1046      435332\n",
      "2  1988            0.613966         0.258058         2221      654957\n",
      "3  1992            0.728723         0.121089         5350     1510170\n",
      "4  1996            0.711559         0.251028         8749     3172309\n",
      "5  2000            0.722031         0.204471        19667     7502022\n",
      "6  2004            0.716812         0.113482        52072    17422147\n",
      "7  2008            0.637495        -0.076026        72422    25563782\n"
     ]
    }
   ],
   "source": [
    "year = '2008'\n",
    "\n",
    "farmer_occupation_terms = {\n",
    "    'farmer', 'rancher', 'harvester', 'landowner', 'shepherd', 'vintner',\n",
    "    'grower', 'cultivator', 'horticulturist', 'dairy farmer', 'cattleman', 'agriculturist'\n",
    "}\n",
    "\n",
    "df = pd.read_csv(f'/Users/laetitiacommanay/Desktop/Python/DBs since 1980/contribDB_{year}.csv',\n",
    "                 usecols=['contributor.occupation', 'contributor.cfscore'],\n",
    "                 encoding='ISO-8859-1')\n",
    "\n",
    "farmer_df = df[df['contributor.occupation'].isin(farmer_occupation_terms)]\n",
    "\n",
    "avg_farmer_cfscore = farmer_df['contributor.cfscore'].mean()\n",
    "avg_all_cfscore = df['contributor.cfscore'].mean()\n",
    "\n",
    "farmer_count = farmer_df.shape[0]\n",
    "total_count = df.shape[0]\n",
    "\n",
    "temp_df = pd.DataFrame({\n",
    "    'year': [year],\n",
    "    'avg_farmer_cfscore': [avg_farmer_cfscore],\n",
    "    'avg_all_cfscore': [avg_all_cfscore],\n",
    "    'farmer_count': [farmer_count],\n",
    "    'total_count': [total_count]\n",
    "})\n",
    "\n",
    "df_results = pd.concat([df_results, temp_df], ignore_index=True)\n",
    "\n",
    "print(df_results)"
   ]
  },
  {
   "cell_type": "markdown",
   "metadata": {},
   "source": [
    "## 2012"
   ]
  },
  {
   "cell_type": "code",
   "execution_count": null,
   "metadata": {},
   "outputs": [
    {
     "name": "stderr",
     "output_type": "stream",
     "text": [
      "/var/folders/jz/kcxw0rt55zb3hz_0xtjzqdnw0000gn/T/ipykernel_62224/2254152915.py:11: DtypeWarning: Columns (19) have mixed types. Specify dtype option on import or set low_memory=False.\n",
      "  df = pd.read_csv(f'/Users/laetitiacommanay/Desktop/Python/DBs since 1980/contribDB_{year}.csv',\n"
     ]
    },
    {
     "name": "stdout",
     "output_type": "stream",
     "text": [
      "   year  avg_farmer_cfscore  avg_all_cfscore farmer_count total_count\n",
      "0  1980            0.644523         0.393878         3959      458212\n",
      "1  1984            0.803871         0.306005         1046      435332\n",
      "2  1988            0.613966         0.258058         2221      654957\n",
      "3  1992            0.728723         0.121089         5350     1510170\n",
      "4  1996            0.711559         0.251028         8749     3172309\n",
      "5  2000            0.722031         0.204471        19667     7502022\n",
      "6  2004            0.716812         0.113482        52072    17422147\n",
      "7  2008            0.637495        -0.076026        72422    25563782\n",
      "8  2012            0.520287        -0.282297        89779    38407064\n"
     ]
    }
   ],
   "source": [
    "year = '2012'\n",
    "\n",
    "farmer_occupation_terms = {\n",
    "    'farmer', 'rancher', 'harvester', 'landowner', 'shepherd', 'vintner',\n",
    "    'grower', 'cultivator', 'horticulturist', 'dairy farmer', 'cattleman', 'agriculturist'\n",
    "}\n",
    "\n",
    "df = pd.read_csv(f'/Users/laetitiacommanay/Desktop/Python/DBs since 1980/contribDB_{year}.csv',\n",
    "                 usecols=['contributor.occupation', 'contributor.cfscore'],\n",
    "                 encoding='ISO-8859-1')\n",
    "\n",
    "farmer_df = df[df['contributor.occupation'].isin(farmer_occupation_terms)]\n",
    "\n",
    "avg_farmer_cfscore = farmer_df['contributor.cfscore'].mean()\n",
    "avg_all_cfscore = df['contributor.cfscore'].mean()\n",
    "\n",
    "farmer_count = farmer_df.shape[0]\n",
    "total_count = df.shape[0]\n",
    "\n",
    "temp_df = pd.DataFrame({\n",
    "    'year': [year],\n",
    "    'avg_farmer_cfscore': [avg_farmer_cfscore],\n",
    "    'avg_all_cfscore': [avg_all_cfscore],\n",
    "    'farmer_count': [farmer_count],\n",
    "    'total_count': [total_count]\n",
    "})\n",
    "\n",
    "df_results = pd.concat([df_results, temp_df], ignore_index=True)\n",
    "\n",
    "print(df_results)"
   ]
  },
  {
   "cell_type": "markdown",
   "metadata": {},
   "source": [
    "## 2016"
   ]
  },
  {
   "cell_type": "code",
   "execution_count": null,
   "metadata": {},
   "outputs": [
    {
     "name": "stderr",
     "output_type": "stream",
     "text": [
      "/var/folders/jz/kcxw0rt55zb3hz_0xtjzqdnw0000gn/T/ipykernel_62224/2023672403.py:11: DtypeWarning: Columns (19) have mixed types. Specify dtype option on import or set low_memory=False.\n",
      "  df = pd.read_csv(f'/Users/laetitiacommanay/Desktop/Python/DBs since 1980/contribDB_{year}.csv',\n"
     ]
    },
    {
     "name": "stdout",
     "output_type": "stream",
     "text": [
      "   year  avg_farmer_cfscore  avg_all_cfscore farmer_count total_count\n",
      "0  1980            0.644523         0.393878         3959      458212\n",
      "1  1984            0.803871         0.306005         1046      435332\n",
      "2  1988            0.613966         0.258058         2221      654957\n",
      "3  1992            0.728723         0.121089         5350     1510170\n",
      "4  1996            0.711559         0.251028         8749     3172309\n",
      "5  2000            0.722031         0.204471        19667     7502022\n",
      "6  2004            0.716812         0.113482        52072    17422147\n",
      "7  2008            0.637495        -0.076026        72422    25563782\n",
      "8  2012            0.520287        -0.282297        89779    38407064\n",
      "9  2016            0.270081        -0.542664       103723    54311447\n"
     ]
    }
   ],
   "source": [
    "year = '2016'\n",
    "\n",
    "farmer_occupation_terms = {\n",
    "    'farmer', 'rancher', 'harvester', 'landowner', 'shepherd', 'vintner',\n",
    "    'grower', 'cultivator', 'horticulturist', 'dairy farmer', 'cattleman', 'agriculturist'\n",
    "}\n",
    "\n",
    "df = pd.read_csv(f'/Users/laetitiacommanay/Desktop/Python/DBs since 1980/contribDB_{year}.csv',\n",
    "                 usecols=['contributor.occupation', 'contributor.cfscore'],\n",
    "                 encoding='ISO-8859-1')\n",
    "\n",
    "farmer_df = df[df['contributor.occupation'].isin(farmer_occupation_terms)]\n",
    "\n",
    "avg_farmer_cfscore = farmer_df['contributor.cfscore'].mean()\n",
    "avg_all_cfscore = df['contributor.cfscore'].mean()\n",
    "\n",
    "farmer_count = farmer_df.shape[0]\n",
    "total_count = df.shape[0]\n",
    "\n",
    "temp_df = pd.DataFrame({\n",
    "    'year': [year],\n",
    "    'avg_farmer_cfscore': [avg_farmer_cfscore],\n",
    "    'avg_all_cfscore': [avg_all_cfscore],\n",
    "    'farmer_count': [farmer_count],\n",
    "    'total_count': [total_count]\n",
    "})\n",
    "\n",
    "df_results = pd.concat([df_results, temp_df], ignore_index=True)\n",
    "\n",
    "print(df_results)"
   ]
  },
  {
   "cell_type": "markdown",
   "metadata": {},
   "source": [
    "## 2020"
   ]
  },
  {
   "cell_type": "code",
   "execution_count": null,
   "metadata": {},
   "outputs": [
    {
     "name": "stderr",
     "output_type": "stream",
     "text": [
      "/var/folders/jz/kcxw0rt55zb3hz_0xtjzqdnw0000gn/T/ipykernel_62224/2453055649.py:11: DtypeWarning: Columns (19) have mixed types. Specify dtype option on import or set low_memory=False.\n",
      "  df = pd.read_csv(f'/Users/laetitiacommanay/Desktop/Python/DBs since 1980/contribDB_{year}.csv',\n"
     ]
    },
    {
     "name": "stdout",
     "output_type": "stream",
     "text": [
      "    year  avg_farmer_cfscore  avg_all_cfscore farmer_count total_count\n",
      "0   1980            0.644523         0.393878         3959      458212\n",
      "1   1984            0.803871         0.306005         1046      435332\n",
      "2   1988            0.613966         0.258058         2221      654957\n",
      "3   1992            0.728723         0.121089         5350     1510170\n",
      "4   1996            0.711559         0.251028         8749     3172309\n",
      "5   2000            0.722031         0.204471        19667     7502022\n",
      "6   2004            0.716812         0.113482        52072    17422147\n",
      "7   2008            0.637495        -0.076026        72422    25563782\n",
      "8   2012            0.520287        -0.282297        89779    38407064\n",
      "9   2016            0.270081        -0.542664       103723    54311447\n",
      "10  2020            0.532581        -0.362294       336934   228473045\n"
     ]
    }
   ],
   "source": [
    "year = '2020'\n",
    "\n",
    "farmer_occupation_terms = {\n",
    "    'farmer', 'rancher', 'harvester', 'landowner', 'shepherd', 'vintner',\n",
    "    'grower', 'cultivator', 'horticulturist', 'dairy farmer', 'cattleman', 'agriculturist'\n",
    "}\n",
    "\n",
    "df = pd.read_csv(f'/Users/laetitiacommanay/Desktop/Python/DBs since 1980/contribDB_{year}.csv',\n",
    "                 usecols=['contributor.occupation', 'contributor.cfscore'],\n",
    "                 encoding='ISO-8859-1')\n",
    "\n",
    "farmer_df = df[df['contributor.occupation'].isin(farmer_occupation_terms)]\n",
    "\n",
    "avg_farmer_cfscore = farmer_df['contributor.cfscore'].mean()\n",
    "avg_all_cfscore = df['contributor.cfscore'].mean()\n",
    "\n",
    "farmer_count = farmer_df.shape[0]\n",
    "total_count = df.shape[0]\n",
    "\n",
    "temp_df = pd.DataFrame({\n",
    "    'year': [year],\n",
    "    'avg_farmer_cfscore': [avg_farmer_cfscore],\n",
    "    'avg_all_cfscore': [avg_all_cfscore],\n",
    "    'farmer_count': [farmer_count],\n",
    "    'total_count': [total_count]\n",
    "})\n",
    "\n",
    "df_results = pd.concat([df_results, temp_df], ignore_index=True)\n",
    "\n",
    "print(df_results)"
   ]
  },
  {
   "cell_type": "markdown",
   "metadata": {},
   "source": []
  },
  {
   "cell_type": "markdown",
   "metadata": {},
   "source": [
    "## 2 - Exportation du tableau dans excel"
   ]
  },
  {
   "cell_type": "code",
   "execution_count": null,
   "metadata": {},
   "outputs": [],
   "source": [
    "#Exporter le tableau de résultats dans excel\n",
    "df_results.to_csv('evolution_vote_fermiers_1980_to_2020.csv')\n",
    "print(df_results)"
   ]
  }
 ],
 "metadata": {
  "kernelspec": {
   "display_name": "Python 3",
   "language": "python",
   "name": "python3"
  },
  "language_info": {
   "codemirror_mode": {
    "name": "ipython",
    "version": 3
   },
   "file_extension": ".py",
   "mimetype": "text/x-python",
   "name": "python",
   "nbconvert_exporter": "python",
   "pygments_lexer": "ipython3",
   "version": "3.9.6"
  }
 },
 "nbformat": 4,
 "nbformat_minor": 2
}
